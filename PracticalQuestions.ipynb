{
  "nbformat": 4,
  "nbformat_minor": 0,
  "metadata": {
    "colab": {
      "provenance": []
    },
    "kernelspec": {
      "name": "python3",
      "display_name": "Python 3"
    },
    "language_info": {
      "name": "python"
    }
  },
  "cells": [
    {
      "cell_type": "markdown",
      "source": [
        "**Q.1  Write a code to create a string with your name and print it.**"
      ],
      "metadata": {
        "id": "06krljolRpl1"
      }
    },
    {
      "cell_type": "code",
      "source": [
        "Name = \"Muskan Ghosle\"\n",
        "print(Name)"
      ],
      "metadata": {
        "colab": {
          "base_uri": "https://localhost:8080/"
        },
        "id": "4PW_FUAaSC6H",
        "outputId": "5a78e053-392f-42ec-baf7-4277152fe062"
      },
      "execution_count": 1,
      "outputs": [
        {
          "output_type": "stream",
          "name": "stdout",
          "text": [
            "Muskan Ghosle\n"
          ]
        }
      ]
    },
    {
      "cell_type": "markdown",
      "source": [
        "**Q.2  Write a code to find the length of the string \"Hello World.\"**"
      ],
      "metadata": {
        "id": "JbnO6hxrSKwT"
      }
    },
    {
      "cell_type": "code",
      "source": [
        "Greetings = \"Hello World\"\n",
        "length = len(Greetings)\n",
        "print(length)"
      ],
      "metadata": {
        "colab": {
          "base_uri": "https://localhost:8080/"
        },
        "id": "pumd8aDfSW-r",
        "outputId": "efa512e0-c387-4a9e-fda8-b9946641f2fd"
      },
      "execution_count": 2,
      "outputs": [
        {
          "output_type": "stream",
          "name": "stdout",
          "text": [
            "11\n"
          ]
        }
      ]
    },
    {
      "cell_type": "markdown",
      "source": [
        "**Q.3 Write a code to slice the first 3 characters from the string \"Python Programming\"**"
      ],
      "metadata": {
        "id": "lKRnzml3StHy"
      }
    },
    {
      "cell_type": "code",
      "source": [
        "language = \"Python Programming\"\n",
        "slice = language[0:3]\n",
        "print(slice)"
      ],
      "metadata": {
        "colab": {
          "base_uri": "https://localhost:8080/"
        },
        "id": "7-1_hAZAS3is",
        "outputId": "661c80ac-2594-4f8e-87c0-2658b15484e6"
      },
      "execution_count": 3,
      "outputs": [
        {
          "output_type": "stream",
          "name": "stdout",
          "text": [
            "Pyt\n"
          ]
        }
      ]
    },
    {
      "cell_type": "markdown",
      "source": [
        "**Q.4  Write a code to convert the string \"hello\" to uppercase**"
      ],
      "metadata": {
        "id": "AF4TS8DqTK1W"
      }
    },
    {
      "cell_type": "code",
      "source": [
        "greet = \"hello\"\n",
        "print(greet.upper())"
      ],
      "metadata": {
        "colab": {
          "base_uri": "https://localhost:8080/"
        },
        "id": "k_I0rZyCTRk6",
        "outputId": "8545bd45-850e-4a8e-e3c8-b49488447b5a"
      },
      "execution_count": 4,
      "outputs": [
        {
          "output_type": "stream",
          "name": "stdout",
          "text": [
            "HELLO\n"
          ]
        }
      ]
    },
    {
      "cell_type": "markdown",
      "source": [
        "**Q.5  Write a code to replace the word \"apple\" with \"orange\" in the string \"I like apple\"**"
      ],
      "metadata": {
        "id": "eFeNIfktTceG"
      }
    },
    {
      "cell_type": "code",
      "source": [
        "string = \"I Like apple\"\n",
        "new_string = string.replace(\"apple\",\"orange\")\n",
        "print(new_string)"
      ],
      "metadata": {
        "colab": {
          "base_uri": "https://localhost:8080/"
        },
        "id": "nDU0hTNBTj-f",
        "outputId": "4a886bc6-1179-410d-fa0f-653b21b461b0"
      },
      "execution_count": 5,
      "outputs": [
        {
          "output_type": "stream",
          "name": "stdout",
          "text": [
            "I Like orange\n"
          ]
        }
      ]
    },
    {
      "cell_type": "markdown",
      "source": [
        "**Q.6 Write a code to create a list with numbers 1 to 5 and print it**"
      ],
      "metadata": {
        "id": "hqTK3uK2T7bT"
      }
    },
    {
      "cell_type": "code",
      "source": [
        "list_value = [1,2,3,4,5]\n",
        "print(list_value)"
      ],
      "metadata": {
        "colab": {
          "base_uri": "https://localhost:8080/"
        },
        "id": "t5Z0DctgUDxy",
        "outputId": "3eb561e2-2425-4ced-a611-05e5c210da35"
      },
      "execution_count": 6,
      "outputs": [
        {
          "output_type": "stream",
          "name": "stdout",
          "text": [
            "[1, 2, 3, 4, 5]\n"
          ]
        }
      ]
    },
    {
      "cell_type": "markdown",
      "source": [
        "**Q.7 Write a code to append the number 10 to the list [1, 2, 3, 4]**"
      ],
      "metadata": {
        "id": "FDrq2oy6UQJG"
      }
    },
    {
      "cell_type": "code",
      "source": [
        "list = [1,2,3,4]\n",
        "list.append(10)\n",
        "print(list)"
      ],
      "metadata": {
        "colab": {
          "base_uri": "https://localhost:8080/"
        },
        "id": "cstY4bdOUYg8",
        "outputId": "ecba23fa-ce5f-4dba-be16-5744be7e721b"
      },
      "execution_count": 7,
      "outputs": [
        {
          "output_type": "stream",
          "name": "stdout",
          "text": [
            "[1, 2, 3, 4, 10]\n"
          ]
        }
      ]
    },
    {
      "cell_type": "markdown",
      "source": [
        "**Q.8  Write a code to remove the number 3 from the list [1, 2, 3, 4, 5]**"
      ],
      "metadata": {
        "id": "nIber8vtUkaM"
      }
    },
    {
      "cell_type": "code",
      "source": [
        "new_list = [1,2,3,4,5]\n",
        "new_list.remove(3)\n",
        "print(new_list)"
      ],
      "metadata": {
        "colab": {
          "base_uri": "https://localhost:8080/"
        },
        "id": "iGdNaeyGUr9F",
        "outputId": "b24da1b9-2d4c-4ff7-e508-361da80c62ea"
      },
      "execution_count": 8,
      "outputs": [
        {
          "output_type": "stream",
          "name": "stdout",
          "text": [
            "[1, 2, 4, 5]\n"
          ]
        }
      ]
    },
    {
      "cell_type": "markdown",
      "source": [
        "**Q.9 Write a code to access the second element in the list ['a', 'b', 'c', 'd']**"
      ],
      "metadata": {
        "id": "YRqY9qwSU75K"
      }
    },
    {
      "cell_type": "code",
      "source": [
        "string_list = ['a','b','c','d']\n",
        "print(string_list[1])"
      ],
      "metadata": {
        "colab": {
          "base_uri": "https://localhost:8080/"
        },
        "id": "Fe2o6IZDVDH4",
        "outputId": "0c14eff0-3830-493e-ebab-fe78254ce005"
      },
      "execution_count": 9,
      "outputs": [
        {
          "output_type": "stream",
          "name": "stdout",
          "text": [
            "b\n"
          ]
        }
      ]
    },
    {
      "cell_type": "markdown",
      "source": [
        "**Q.10  Write a code to reverse the list [10, 20, 30, 40, 50]**"
      ],
      "metadata": {
        "id": "OnUMkgEKVTEl"
      }
    },
    {
      "cell_type": "code",
      "source": [
        "number_list = [10,20,30,40,50]\n",
        "number_list.reverse()\n",
        "print(number_list)"
      ],
      "metadata": {
        "colab": {
          "base_uri": "https://localhost:8080/"
        },
        "id": "_IbGhJNfVZpz",
        "outputId": "1ce4d89b-4fc0-4de1-e1bd-913be34e3d22"
      },
      "execution_count": 11,
      "outputs": [
        {
          "output_type": "stream",
          "name": "stdout",
          "text": [
            "[50, 40, 30, 20, 10]\n"
          ]
        }
      ]
    },
    {
      "cell_type": "markdown",
      "source": [
        "**Q.11 Write a code to create a tuple with the elements 100, 200, 300 and print it.**"
      ],
      "metadata": {
        "id": "1F9b3foKV0s5"
      }
    },
    {
      "cell_type": "code",
      "source": [
        "tuple_value = (100,200,300)\n",
        "print(tuple_value)"
      ],
      "metadata": {
        "colab": {
          "base_uri": "https://localhost:8080/"
        },
        "id": "x5QHeuTQV-38",
        "outputId": "231e29e7-89ad-4d02-eff4-9a01bb30fcda"
      },
      "execution_count": 12,
      "outputs": [
        {
          "output_type": "stream",
          "name": "stdout",
          "text": [
            "(100, 200, 300)\n"
          ]
        }
      ]
    },
    {
      "cell_type": "markdown",
      "source": [
        "**Q.12 Write a code to access the second-to-last element of the tuple ('red', 'green', 'blue', 'yellow')**"
      ],
      "metadata": {
        "id": "VxqIEa-YWGdn"
      }
    },
    {
      "cell_type": "code",
      "source": [
        "colors = ('red','green', 'blue', 'yellow')\n",
        "print(colors[-2])"
      ],
      "metadata": {
        "colab": {
          "base_uri": "https://localhost:8080/"
        },
        "id": "c-EPn_rqWNMd",
        "outputId": "0ced9d76-118e-43dd-e061-b424535edbee"
      },
      "execution_count": 13,
      "outputs": [
        {
          "output_type": "stream",
          "name": "stdout",
          "text": [
            "blue\n"
          ]
        }
      ]
    },
    {
      "cell_type": "markdown",
      "source": [
        "**Q.13  Write a code to find the minimum number in the tuple (10, 20, 5, 15).**"
      ],
      "metadata": {
        "id": "tqYtneJ6WfBn"
      }
    },
    {
      "cell_type": "code",
      "source": [
        "num = (10,20,5,15)\n",
        "min_num = min(num)\n",
        "print(\"minimum number of the tuple : \",min_num)"
      ],
      "metadata": {
        "colab": {
          "base_uri": "https://localhost:8080/"
        },
        "id": "e99pwgzfWlv6",
        "outputId": "7e891349-21df-4e00-e19c-11c4ce7d73b0"
      },
      "execution_count": 17,
      "outputs": [
        {
          "output_type": "stream",
          "name": "stdout",
          "text": [
            "minimum number of the tuple :  5\n"
          ]
        }
      ]
    },
    {
      "cell_type": "markdown",
      "source": [
        "**Q.14 Write a code to find the index of the element \"cat\" in the tuple ('dog', 'cat', 'rabbit').**"
      ],
      "metadata": {
        "id": "9RUyoXSvXFdS"
      }
    },
    {
      "cell_type": "code",
      "source": [
        "animals = ('dog','cat','rabbit')\n",
        "print(\"Index of cat is :\",animals.index('cat'))"
      ],
      "metadata": {
        "colab": {
          "base_uri": "https://localhost:8080/"
        },
        "id": "zemyMlptXNeJ",
        "outputId": "42329533-3751-410b-d169-f358624882fc"
      },
      "execution_count": 19,
      "outputs": [
        {
          "output_type": "stream",
          "name": "stdout",
          "text": [
            "Index of cat is : 1\n"
          ]
        }
      ]
    },
    {
      "cell_type": "markdown",
      "source": [
        "**Q.15  Write a code to create a tuple containing three different fruits and check if \"kiwi\" is in it.**"
      ],
      "metadata": {
        "id": "jKdgxXDBXvvl"
      }
    },
    {
      "cell_type": "code",
      "source": [
        "fruits = (\"apple\",\"banana\",\"kiwi\")\n",
        "check =  \"kiwi\" in fruits\n",
        "print(check)"
      ],
      "metadata": {
        "colab": {
          "base_uri": "https://localhost:8080/"
        },
        "id": "MGZoyo3ZX4Mz",
        "outputId": "4ea0431e-4106-495f-dacc-419069980873"
      },
      "execution_count": 22,
      "outputs": [
        {
          "output_type": "stream",
          "name": "stdout",
          "text": [
            "True\n"
          ]
        }
      ]
    },
    {
      "cell_type": "markdown",
      "source": [
        "**Q.16 Write a code to create a set with the elements 'a', 'b', 'c' and print it.**"
      ],
      "metadata": {
        "id": "KOb6fR1YYgMq"
      }
    },
    {
      "cell_type": "code",
      "source": [
        "alpha = {'a','b','c'}\n",
        "print(alpha)\n",
        "print(type(alpha))"
      ],
      "metadata": {
        "colab": {
          "base_uri": "https://localhost:8080/"
        },
        "id": "eV8GrJWwYowL",
        "outputId": "67953aa0-2514-4828-d6df-ac6e05e90cec"
      },
      "execution_count": 23,
      "outputs": [
        {
          "output_type": "stream",
          "name": "stdout",
          "text": [
            "{'b', 'c', 'a'}\n",
            "<class 'set'>\n"
          ]
        }
      ]
    },
    {
      "cell_type": "markdown",
      "source": [
        "**Q.17  Write a code to clear all elements from the set {1, 2, 3, 4, 5}.**"
      ],
      "metadata": {
        "id": "CGVk4w76Y1HO"
      }
    },
    {
      "cell_type": "code",
      "source": [
        "numers = {1,2,3,4,5}\n",
        "numers.clear()\n",
        "print(numers)\n"
      ],
      "metadata": {
        "colab": {
          "base_uri": "https://localhost:8080/"
        },
        "id": "UcJhqUlnY8kl",
        "outputId": "a6f3015a-e0e4-4cdc-d5ae-0c9ec7d674fd"
      },
      "execution_count": 24,
      "outputs": [
        {
          "output_type": "stream",
          "name": "stdout",
          "text": [
            "set()\n"
          ]
        }
      ]
    },
    {
      "cell_type": "markdown",
      "source": [
        "**Q.18  Write a code to remove the element 4 from the set {1, 2, 3, 4}**"
      ],
      "metadata": {
        "id": "V9Utbvn6ZN9C"
      }
    },
    {
      "cell_type": "code",
      "source": [
        "elimation = {1,2,3,4}\n",
        "elimation.remove(4)\n",
        "print(elimation)"
      ],
      "metadata": {
        "colab": {
          "base_uri": "https://localhost:8080/"
        },
        "id": "iUXL41vyZVnk",
        "outputId": "2e77e83f-920f-4739-85b1-8c8d8ce5d85a"
      },
      "execution_count": 25,
      "outputs": [
        {
          "output_type": "stream",
          "name": "stdout",
          "text": [
            "{1, 2, 3}\n"
          ]
        }
      ]
    },
    {
      "cell_type": "markdown",
      "source": [
        "**Q.19  Write a code to find the union of two sets {1, 2, 3} and {3, 4, 5}.**"
      ],
      "metadata": {
        "id": "rOP_ZhVdZgzP"
      }
    },
    {
      "cell_type": "code",
      "source": [
        "set1 = {1,2,3}\n",
        "set2= {3,4,5}\n",
        "sets = set1.union(set2)\n",
        "print(\"Union of two sets :\",sets)"
      ],
      "metadata": {
        "colab": {
          "base_uri": "https://localhost:8080/"
        },
        "id": "e0SjcRNPZn6d",
        "outputId": "78d3cf9e-6a50-4864-9752-7bbf62fafaa5"
      },
      "execution_count": 29,
      "outputs": [
        {
          "output_type": "stream",
          "name": "stdout",
          "text": [
            "Union of two sets : {1, 2, 3, 4, 5}\n"
          ]
        }
      ]
    },
    {
      "cell_type": "markdown",
      "source": [
        "**Q.20 Write a code to find the intersection of two sets {1, 2, 3} and {2, 3, 4}.**"
      ],
      "metadata": {
        "id": "yVavwhJjaI88"
      }
    },
    {
      "cell_type": "code",
      "source": [
        "num1 = {1,2,3}\n",
        "num2 = {2,3,4}\n",
        "intersect = num1.intersection(num2)\n",
        "print(\"intersection of two sets : \",intersect)"
      ],
      "metadata": {
        "colab": {
          "base_uri": "https://localhost:8080/"
        },
        "id": "wQARFwdFaQrO",
        "outputId": "8f29fbeb-0cc7-4f25-b874-4117ea026896"
      },
      "execution_count": 30,
      "outputs": [
        {
          "output_type": "stream",
          "name": "stdout",
          "text": [
            "intersection of two sets :  {2, 3}\n"
          ]
        }
      ]
    },
    {
      "cell_type": "markdown",
      "source": [
        "**Q.21 Write a code to create a dictionary with the keys \"name\", \"age\", and \"city\", and print it.**"
      ],
      "metadata": {
        "id": "LtfXBkCOai-g"
      }
    },
    {
      "cell_type": "code",
      "source": [
        "intro = {\"name\":\"Muskan\",\"age\":20,\"city\":\"Mumbai\"}\n",
        "print(intro)"
      ],
      "metadata": {
        "colab": {
          "base_uri": "https://localhost:8080/"
        },
        "id": "75l4wyfwaqDr",
        "outputId": "1a7d112d-d399-48b4-a47f-7d1e43b5cb23"
      },
      "execution_count": 31,
      "outputs": [
        {
          "output_type": "stream",
          "name": "stdout",
          "text": [
            "{'name': 'Muskan', 'age': 20, 'city': 'Mumbai'}\n"
          ]
        }
      ]
    },
    {
      "cell_type": "markdown",
      "source": [
        "**Q.22  Write a code to add a new key-value pair \"country\": \"USA\" to the dictionary {'name': 'John', 'age': 25}.**"
      ],
      "metadata": {
        "id": "6ZJaLQlOa0VN"
      }
    },
    {
      "cell_type": "code",
      "source": [
        "old_intro = {'name':'john','age':25}\n",
        "old_intro['country'] = 'USA'\n",
        "print(old_intro)\n"
      ],
      "metadata": {
        "colab": {
          "base_uri": "https://localhost:8080/"
        },
        "id": "DL9PBzpna7Ap",
        "outputId": "84f3ff7b-7083-462f-e068-c69c675bb0e8"
      },
      "execution_count": 32,
      "outputs": [
        {
          "output_type": "stream",
          "name": "stdout",
          "text": [
            "{'name': 'john', 'age': 25, 'country': 'USA'}\n"
          ]
        }
      ]
    },
    {
      "cell_type": "markdown",
      "source": [
        "**Q.23 Write a code to access the value associated with the key \"name\" in the dictionary {'name': 'Alice', 'age': 30}.**"
      ],
      "metadata": {
        "id": "rwaHqsDfbOdx"
      }
    },
    {
      "cell_type": "code",
      "source": [
        "access = {\"name\":'Alice','age':30}\n",
        "print(access['name'])"
      ],
      "metadata": {
        "colab": {
          "base_uri": "https://localhost:8080/"
        },
        "id": "5IZ438IlbY8p",
        "outputId": "ca081aec-b2f4-491c-e823-c1a1172a0e7d"
      },
      "execution_count": 33,
      "outputs": [
        {
          "output_type": "stream",
          "name": "stdout",
          "text": [
            "Alice\n"
          ]
        }
      ]
    },
    {
      "cell_type": "markdown",
      "source": [
        "**Q.24 Write a code to remove the key \"age\" from the dictionary {'name': 'Bob', 'age': 22, 'city': 'New York'}.**"
      ],
      "metadata": {
        "id": "xdnZY4uublxV"
      }
    },
    {
      "cell_type": "code",
      "source": [
        "dict = {'name':'Bob','age':22,'city':'New York'}\n",
        "dict.pop('age')\n",
        "print(dict)"
      ],
      "metadata": {
        "colab": {
          "base_uri": "https://localhost:8080/"
        },
        "id": "3G8Hrt-jbs8t",
        "outputId": "81c9c17a-1544-4472-80fc-f5540fbaba34"
      },
      "execution_count": 34,
      "outputs": [
        {
          "output_type": "stream",
          "name": "stdout",
          "text": [
            "{'name': 'Bob', 'city': 'New York'}\n"
          ]
        }
      ]
    },
    {
      "cell_type": "markdown",
      "source": [
        "**Q.25 Write a code to check if the key \"city\" exists in the dictionary {'name': 'Alice', 'city': 'Paris'}.**"
      ],
      "metadata": {
        "id": "F_qv8W99b0E7"
      }
    },
    {
      "cell_type": "code",
      "source": [
        "finding = {'name':'Alice','city':'Paris'}\n",
        "print(\"city\" in finding)"
      ],
      "metadata": {
        "colab": {
          "base_uri": "https://localhost:8080/"
        },
        "id": "sM7HYc6rb8vo",
        "outputId": "e87e875c-65fa-49f0-8625-061df3e4c629"
      },
      "execution_count": 35,
      "outputs": [
        {
          "output_type": "stream",
          "name": "stdout",
          "text": [
            "True\n"
          ]
        }
      ]
    },
    {
      "cell_type": "markdown",
      "source": [
        "**Q.26 Write a code to create a list, a tuple, and a dictionary, and print them all.**"
      ],
      "metadata": {
        "id": "H1sqSkKgcC9Z"
      }
    },
    {
      "cell_type": "code",
      "source": [
        "# Create a list\n",
        "my_list = [1, 2, 3, \"apple\", \"banana\"]\n",
        "print(\"List:\", my_list)\n",
        "\n",
        "# Create a tuple\n",
        "my_tuple = (10, 20, 30, \"orange\", \"grape\")\n",
        "print(\"Tuple:\", my_tuple)\n",
        "\n",
        "# Create a dictionary\n",
        "my_dict = {\"name\": \"Alice\", \"age\": 25, \"city\": \"New York\"}\n",
        "print(\"Dictionary:\", my_dict)"
      ],
      "metadata": {
        "colab": {
          "base_uri": "https://localhost:8080/"
        },
        "id": "Fy8GjQimcI0-",
        "outputId": "9fc0e44b-a7d6-480b-9d5f-6754da6e0bb9"
      },
      "execution_count": 36,
      "outputs": [
        {
          "output_type": "stream",
          "name": "stdout",
          "text": [
            "List: [1, 2, 3, 'apple', 'banana']\n",
            "Tuple: (10, 20, 30, 'orange', 'grape')\n",
            "Dictionary: {'name': 'Alice', 'age': 25, 'city': 'New York'}\n"
          ]
        }
      ]
    },
    {
      "cell_type": "markdown",
      "source": [
        "**Q.27  Write a code to create a list of 5 random numbers between 1 and 100, sort it in ascending order, and print the result(replaced)**"
      ],
      "metadata": {
        "id": "dP2so6W0chY1"
      }
    },
    {
      "cell_type": "code",
      "source": [
        "import random\n",
        "\n",
        "random_numbers = [random.randint(1, 100) for _ in range(5)]\n",
        "random_numbers.sort()\n",
        "print(\"Sorted random numbers:\", random_numbers)"
      ],
      "metadata": {
        "colab": {
          "base_uri": "https://localhost:8080/"
        },
        "id": "RKqfMuqAc7Zb",
        "outputId": "a5574a72-5085-448d-dada-a8ed5293d9dc"
      },
      "execution_count": 37,
      "outputs": [
        {
          "output_type": "stream",
          "name": "stdout",
          "text": [
            "Sorted random numbers: [33, 43, 45, 46, 93]\n"
          ]
        }
      ]
    },
    {
      "cell_type": "markdown",
      "source": [
        "**Q.28 Write a code to create a list with strings and print the element at the third index.**"
      ],
      "metadata": {
        "id": "zuU91yWEdKc0"
      }
    },
    {
      "cell_type": "code",
      "source": [
        "\n",
        "my_list = [\"apple\", \"banana\", \"cherry\", \"date\", \"elderberry\"]\n",
        "print(\"Element at index 3:\", my_list[3])"
      ],
      "metadata": {
        "colab": {
          "base_uri": "https://localhost:8080/"
        },
        "id": "nlaGjpNsdUEP",
        "outputId": "7763c8a3-eec9-4ebb-f4b8-793f1e857737"
      },
      "execution_count": 38,
      "outputs": [
        {
          "output_type": "stream",
          "name": "stdout",
          "text": [
            "Element at index 3: date\n"
          ]
        }
      ]
    },
    {
      "cell_type": "markdown",
      "source": [
        "**Q.29 Write a code to combine two dictionaries into one and print the result.**"
      ],
      "metadata": {
        "id": "U2HoBt0HdfwI"
      }
    },
    {
      "cell_type": "code",
      "source": [
        "dict1 = {\"a\": 1, \"b\": 2}\n",
        "dict2 = {\"b\": 3, \"c\": 4}\n",
        "\n",
        "combined_dict = dict1 | dict2\n",
        "print(\"Combined dictionary:\", combined_dict)"
      ],
      "metadata": {
        "colab": {
          "base_uri": "https://localhost:8080/"
        },
        "id": "RIRCO7JadoNa",
        "outputId": "8ac85e06-a564-4d39-fb9f-a7fb54a8eee3"
      },
      "execution_count": 39,
      "outputs": [
        {
          "output_type": "stream",
          "name": "stdout",
          "text": [
            "Combined dictionary: {'a': 1, 'b': 3, 'c': 4}\n"
          ]
        }
      ]
    },
    {
      "cell_type": "markdown",
      "source": [
        "**Q.30 Write a code to convert a list of strings into a set.**"
      ],
      "metadata": {
        "id": "L9_9Idxqd3T6"
      }
    },
    {
      "cell_type": "code",
      "source": [
        "\n",
        "string_list = [\"apple\", \"banana\", \"cherry\", \"apple\", \"banana\"]\n",
        "string_set = set(string_list)\n",
        "\n",
        "print(\"Original List:\", string_list)\n",
        "print(\"Converted Set:\", string_set)"
      ],
      "metadata": {
        "colab": {
          "base_uri": "https://localhost:8080/"
        },
        "id": "ahMtnj7Md-je",
        "outputId": "23015f96-c2eb-497b-a95b-1aad372829a9"
      },
      "execution_count": 40,
      "outputs": [
        {
          "output_type": "stream",
          "name": "stdout",
          "text": [
            "Original List: ['apple', 'banana', 'cherry', 'apple', 'banana']\n",
            "Converted Set: {'apple', 'banana', 'cherry'}\n"
          ]
        }
      ]
    }
  ]
}