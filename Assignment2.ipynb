{
  "nbformat": 4,
  "nbformat_minor": 0,
  "metadata": {
    "colab": {
      "provenance": []
    },
    "kernelspec": {
      "name": "python3",
      "display_name": "Python 3"
    },
    "language_info": {
      "name": "python"
    }
  },
  "cells": [
    {
      "cell_type": "markdown",
      "source": [
        "# Assignment2 = **\"Data Structure Theory Questions\"**"
      ],
      "metadata": {
        "id": "HmGbg3VrHrCg"
      }
    },
    {
      "cell_type": "markdown",
      "source": [
        "**Q.1  What are data structures, and why are they important?**\n",
        "\n",
        "ans = Data structure is a way of organizing and storing the data and information into well manner so the program will work efficiently.\n",
        "**example :** Set , List , Tuples.\n",
        "\n",
        "**=>Importance of data structure**\n",
        "\n",
        "Data structure is important because the way of organizing gives efficient\n",
        "program and save memory\n",
        "**Example = **\n",
        "If you will arange your book in almirah in correct way so it is easy to get the book easly from there . it will save your time and space"
      ],
      "metadata": {
        "id": "r-qpRe5UH2QL"
      }
    },
    {
      "cell_type": "markdown",
      "source": [
        "**Q.2  Explain the difference between mutable and immutable data types with examples?**\n",
        "\n",
        "ans = Mutable means changeable data types in python it is changed after creating the variable value.\n",
        "\n",
        "Immutable means unchangeable you can't change it after creating the variable\n",
        "so the examples that makes different of both"
      ],
      "metadata": {
        "id": "IS-trmlOJPrS"
      }
    },
    {
      "cell_type": "code",
      "source": [
        "# Example of Mutable data structure Dictionary\n",
        "person = {\"name\": \"Alice\", \"age\": 25}\n",
        "person[\"age\"] = 26\n",
        "print(person)\n"
      ],
      "metadata": {
        "colab": {
          "base_uri": "https://localhost:8080/"
        },
        "id": "Lt8F9KP5LAuR",
        "outputId": "6011db30-bbdc-46c6-d6ed-0496932f5486"
      },
      "execution_count": 1,
      "outputs": [
        {
          "output_type": "stream",
          "name": "stdout",
          "text": [
            "{'name': 'Alice', 'age': 26}\n"
          ]
        }
      ]
    },
    {
      "cell_type": "code",
      "source": [
        "# Immutable value of X\n",
        "x = 5\n",
        "x = x + 1\n",
        "print(x)"
      ],
      "metadata": {
        "colab": {
          "base_uri": "https://localhost:8080/"
        },
        "id": "YX7F2GRRLJIz",
        "outputId": "7eabe41f-dc5f-410f-a0dc-5189165dd95f"
      },
      "execution_count": 3,
      "outputs": [
        {
          "output_type": "stream",
          "name": "stdout",
          "text": [
            "6\n"
          ]
        }
      ]
    },
    {
      "cell_type": "markdown",
      "source": [
        "**Q.3 What are the main differences between lists and tuples in Python?**\n",
        "\n",
        "ans =1.The main difference between list and tuple that is mutability\n",
        "      lists are mutable and tuples are immutable\n",
        "      \n",
        "  2.lists are slower than tuples , tuples are faster because of it is immutable so it doesn't take any extra value\n",
        "\n",
        "3.tuples are different in syntax and lists have their different syntax\n",
        "tuples don't have the many methods. but lists have.\n"
      ],
      "metadata": {
        "id": "RSCFb12gL1Tk"
      }
    },
    {
      "cell_type": "markdown",
      "source": [
        "**Q.4  Describe how dictionaries store data ?**\n",
        "\n",
        "ans = In datastructure Dictinaries are store data in key-value pair format\n",
        "it is mutable you can change it as per your requirement"
      ],
      "metadata": {
        "id": "j3yJ3jMaNteZ"
      }
    },
    {
      "cell_type": "code",
      "source": [
        "# data store in dictionaries\n",
        "name = {'name':'muskan','age':20}\n",
        "print(name)"
      ],
      "metadata": {
        "colab": {
          "base_uri": "https://localhost:8080/"
        },
        "id": "wQcqIhk9Sy7G",
        "outputId": "dd746657-0e14-4e8d-f2fa-6d92130af595"
      },
      "execution_count": 5,
      "outputs": [
        {
          "output_type": "stream",
          "name": "stdout",
          "text": [
            "{'name': 'muskan', 'age': 20}\n"
          ]
        }
      ]
    },
    {
      "cell_type": "markdown",
      "source": [
        "**Q.4 Why might you use a set instead of a list in Python?**\n",
        "\n",
        "ans = Sets are mutable and lists also mutable but the problem is duplicate value\n",
        "sets remove the duplicate value automatically.\n",
        "\n",
        "one more thing is sets are unordered and lists are ordered\n",
        "because of these two change things i don't use set instead of list."
      ],
      "metadata": {
        "id": "U0pcLMcbTJi0"
      }
    },
    {
      "cell_type": "markdown",
      "source": [
        "**Q.6 What is a string in Python, and how is it different from a list?**\n",
        "\n",
        "ans = String is store character value but String is Immutable. List is mutable\n",
        "this is a big difference of mutability between string and list in python"
      ],
      "metadata": {
        "id": "RMrjykjLT6nJ"
      }
    },
    {
      "cell_type": "markdown",
      "source": [
        "**Q.7  How do tuples ensure data integrity in Python?**\n",
        "\n",
        "ans = Tuple provide a \"write-once, read-many\" guarantee for your data. They're like putting your important documents in a sealed envelope - you can read them anytime, but you can't accidentally change them. This makes your programs more reliable and safer from bugs that could corrupt critical data."
      ],
      "metadata": {
        "id": "0YDA6i1fUrtn"
      }
    },
    {
      "cell_type": "markdown",
      "source": [
        "**Q.8  What is a hash table, and how does it relate to dictionaries in Python ?**\n",
        "\n",
        "ans = Hash tables are one of computer science's most important inventions because they solve the fundamental problem of fast data retrieval. Python dictionaries give you access to this powerful technology with a simple, elegant interface. Every time you use a dictionary,  data access as fast as possible."
      ],
      "metadata": {
        "id": "73-Jv4cDVo8x"
      }
    },
    {
      "cell_type": "markdown",
      "source": [
        "**Q.9 Can lists contain different data types in Python ?**\n",
        "\n",
        "ans = Yes, lists can store and contain different datatypes all mixed together in list. It makes list user-friendly and easy to use and modify easly"
      ],
      "metadata": {
        "id": "DNZ0NqtgXCsh"
      }
    },
    {
      "cell_type": "code",
      "source": [
        "# Example of mixed list in python\n",
        "mixed_list = [\n",
        "    \"Hello\",           # string\n",
        "    42,                # integer\n",
        "    3.14,              # float\n",
        "    True,              # boolean\n",
        "    [1, 2, 3],         # another list\n",
        "    {\"name\": \"Alice\"}, # dictionary\n",
        "    (10, 20)           # tuple\n",
        "]\n",
        "\n",
        "print(mixed_list[0])\n",
        "print(mixed_list[1])\n",
        "print(mixed_list[4])"
      ],
      "metadata": {
        "colab": {
          "base_uri": "https://localhost:8080/"
        },
        "id": "ui6Dpy9fMwCv",
        "outputId": "c337c029-971e-440a-9f01-fe4935c1f981"
      },
      "execution_count": 6,
      "outputs": [
        {
          "output_type": "stream",
          "name": "stdout",
          "text": [
            "Hello\n",
            "42\n",
            "[1, 2, 3]\n"
          ]
        }
      ]
    },
    {
      "cell_type": "markdown",
      "source": [
        "**Q.10  Explain why strings are immutable in Python**\n",
        "\n",
        "ans = String immutability is one of those design decisions that makes Python more reliable and predictable. While it might seem limiting at first, it actually prevents many common programming errors and makes your code safer and more efficient.Strings immutability gives us relax about no one will get our data currupt."
      ],
      "metadata": {
        "id": "OOiC3MKQXttO"
      }
    },
    {
      "cell_type": "markdown",
      "source": [
        "**Q.11 What advantages do dictionaries offer over lists for certain tasks?**\n",
        "\n",
        "ans = The advantages dictionary offers over the list that are , Dictionaries shine when you need fast access to data using meaningful identifiers, when modeling real-world relationships, or when the natural structure of your data is key-value pairs. They transform many complex searching and organizing tasks into simple, fast operations that make your code both more efficient and more readable."
      ],
      "metadata": {
        "id": "8bXRDH5kY3ru"
      }
    },
    {
      "cell_type": "markdown",
      "source": [
        "**Q.12 Describe a scenario where using a tuple would be preferable over a list**\n",
        "\n",
        "ans = Banking Transaction Process is the best for example of tuple over the list\n",
        "because when transfer money and do payment than it is stored permanently for security and account balance\n",
        " scenario perfectly demonstrates why tuples exist: when data represents something that happened (like a completed transaction) rather than something that might change (like a shopping cart), immutability becomes a valuable safety feature rather than a limitation."
      ],
      "metadata": {
        "id": "2GCqENMPZqW7"
      }
    },
    {
      "cell_type": "markdown",
      "source": [
        "**Q.13  How do sets handle duplicate values in Python?**\n",
        "\n",
        "ans = Sets are mutable data structure in python.In python sets are automatically handles the duplicate value ,sets have the automatic handling duplicate values and it is store the value in unordered collection ."
      ],
      "metadata": {
        "id": "upISOmtVa__d"
      }
    },
    {
      "cell_type": "markdown",
      "source": [
        "**Q.14 How does the “in” keyword work differently for lists and dictionaries**\n",
        "\n",
        "ans = \"in\" keyword in lists work for finding the actual value. \"in\" keyword in dictionary finding the key NOT value\n",
        "It is easy to find in dictionary but when large data in list it will be the slower process of finding value"
      ],
      "metadata": {
        "id": "KDwrQryMbqOO"
      }
    },
    {
      "cell_type": "code",
      "source": [
        "#Example of list in python\n",
        "fruits = [\"apple\", \"banana\", \"cherry\"]\n",
        "print(\"banana\" in fruits)    # True - searches for the value \"banana\"\n",
        "print(\"orange\" in fruits)    # False - value not found"
      ],
      "metadata": {
        "colab": {
          "base_uri": "https://localhost:8080/"
        },
        "id": "VA5ivLLEcsuw",
        "outputId": "aa2e16ed-ea19-400c-e2c3-3e566b6e4d1c"
      },
      "execution_count": 7,
      "outputs": [
        {
          "output_type": "stream",
          "name": "stdout",
          "text": [
            "True\n",
            "False\n"
          ]
        }
      ]
    },
    {
      "cell_type": "code",
      "source": [
        "#Example of Dictionary in python\n",
        "person = {\"name\": \"Alice\", \"age\": 25, \"city\": \"New York\"}\n",
        "print(\"name\" in person)      # True - \"name\" is a key\n",
        "print(\"Alice\" in person)     # False - \"Alice\" is a value, not a key\n",
        "print(\"age\" in person)       # True - \"age\" is a key\n",
        "print(25 in person)          # False - 25 is a value, not a key"
      ],
      "metadata": {
        "colab": {
          "base_uri": "https://localhost:8080/"
        },
        "id": "UJj1QB98c2H9",
        "outputId": "6a9dc490-d330-4e87-9168-40a2e8acfe5a"
      },
      "execution_count": 8,
      "outputs": [
        {
          "output_type": "stream",
          "name": "stdout",
          "text": [
            "True\n",
            "False\n",
            "True\n",
            "False\n"
          ]
        }
      ]
    },
    {
      "cell_type": "markdown",
      "source": [
        "**Q.15  Can you modify the elements of a tuple? Explain why or why not?**\n",
        "\n",
        "ans = Tuples are Immutable in python it means you can not add , remove and modify after creation .\n",
        "Tuples are immutable because of **. Data integrity**  tuples are designed to store fixed values and **Thread safety** tuples designed to protect data from the currupt threads\n",
        "\n",
        "tuples can't be used as list and mutable data type because of immutability\n"
      ],
      "metadata": {
        "id": "j130ljOOdCt6"
      }
    },
    {
      "cell_type": "markdown",
      "source": [
        "**Q.16 What is a nested dictionary, and give an example of its use case**\n",
        "\n",
        "ans = A nested dictionary contains dictionary inside dictionary called nested dictionary\n",
        "\n",
        "it is useful because of organized data ,easy access\n",
        "\n",
        "Examples => API responses , gaming"
      ],
      "metadata": {
        "id": "pihyV_rxfpFm"
      }
    },
    {
      "cell_type": "code",
      "source": [
        "employees = {\n",
        "    \"employee1\": {\n",
        "        \"name\": \"Alice\",\n",
        "        \"age\": 28,\n",
        "        \"department\": \"Engineering\"\n",
        "    },\n",
        "    \"employee2\": {\n",
        "        \"name\": \"Bob\",\n",
        "        \"age\": 35,\n",
        "        \"department\": \"Marketing\"\n",
        "    }\n",
        "}\n",
        "print(employees[\"employee2\"][\"name\"])"
      ],
      "metadata": {
        "colab": {
          "base_uri": "https://localhost:8080/"
        },
        "id": "TGqg-yRDgUWK",
        "outputId": "bf0c95a3-4b64-4761-f286-e6825cb75bfe"
      },
      "execution_count": 11,
      "outputs": [
        {
          "output_type": "stream",
          "name": "stdout",
          "text": [
            "Bob\n"
          ]
        }
      ]
    },
    {
      "cell_type": "markdown",
      "source": [
        "**Q.17  Describe the time complexity of accessing elements in a dictionary**\n",
        "\n",
        "ans = In Python, dictionaries are implemented as hash tables, which makes accessing elements highly efficient.\n",
        "\n",
        "Time Complexities:\n",
        "Operation,\tAverage Case, Worst Case,\tExplanation\n",
        "Access(dict[key]),\tO(1)\t,O(n)\t,Direct lookup via hash key (constant time on average).\n"
      ],
      "metadata": {
        "id": "vvmiqC7Cgy4g"
      }
    },
    {
      "cell_type": "code",
      "source": [
        "my_dict = {\"a\": 1, \"b\": 2, \"c\": 3}\n",
        "my_list = [\"a\", \"b\", \"c\"]\n",
        "\n",
        "# Dictionary access (O(1))\n",
        "print(my_dict[\"b\"])  # Instantly retrieves value at \"b\"\n"
      ],
      "metadata": {
        "colab": {
          "base_uri": "https://localhost:8080/"
        },
        "id": "jmfUen94h_TU",
        "outputId": "ef064245-5637-4a5a-ecfa-6b0c9c2e51ea"
      },
      "execution_count": 12,
      "outputs": [
        {
          "output_type": "stream",
          "name": "stdout",
          "text": [
            "2\n"
          ]
        }
      ]
    },
    {
      "cell_type": "markdown",
      "source": [
        "**Q.18  In what situations are lists preferred over dictionaries**\n",
        "\n",
        "ans =  When Order Matters\n",
        "Lists preserve insertion order, making them ideal for:\n",
        "\n",
        "Sequential data processing ( logs, time-series data).\n",
        "\n",
        "Implementing queues (FIFO) or stacks (LIFO).\n",
        "\n",
        "Maintaining rankings ( leaderboards).\n",
        "\n",
        "Example:\n"
      ],
      "metadata": {
        "id": "awo4YUX6iKuX"
      }
    },
    {
      "cell_type": "code",
      "source": [
        "\n",
        "tasks = [\"task1\", \"task2\", \"task3\"]  # Order is preserved\n",
        "next_task = tasks.pop(0)\n",
        "print(next_task)"
      ],
      "metadata": {
        "colab": {
          "base_uri": "https://localhost:8080/"
        },
        "id": "wbQBEsYZjJh6",
        "outputId": "af86e6d6-1986-4666-8f1b-99276f3cfaeb"
      },
      "execution_count": 14,
      "outputs": [
        {
          "output_type": "stream",
          "name": "stdout",
          "text": [
            "task1\n"
          ]
        }
      ]
    },
    {
      "cell_type": "markdown",
      "source": [
        "**Q.19  Why are dictionaries considered unordered, and how does that affect data retrieval?**\n",
        "\n",
        "ans = Dictionaries are ordered or unordered based on how they define . If they define with Hash table so it is the possibility so they can be ordered\n",
        "\n",
        "But it define as simple dictionary so it can be unordered\n",
        "\n",
        "how it is affect on data retrieval like:\n",
        "when we compare two dictionary so it will create ambiguity for itself\n",
        "and when we use loop in dictionary so it will be critical to predict the output"
      ],
      "metadata": {
        "id": "2z_BoOP0jbu4"
      }
    },
    {
      "cell_type": "markdown",
      "source": [
        "**Q.20  Explain the difference between a list and a dictionary in terms of data retrieval.**\n",
        "\n",
        "ans = lists are mutable and dictionary also mutable . so when you want to retrieve data from the list it is slower because when you have large data so it is dificult to gives output fast . But in Dictionary this process is faster because in python's old version dictionary is unordered so it is possibility to give output fast\n",
        "\n",
        "In list you can retrieve direct value . But in dictionary you can retrieve through the Key ."
      ],
      "metadata": {
        "id": "Q__yb3xqlAwI"
      }
    }
  ]
}